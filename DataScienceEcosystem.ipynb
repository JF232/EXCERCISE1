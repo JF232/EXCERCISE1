{
 "cells": [
  {
   "cell_type": "markdown",
   "id": "3156f6c1",
   "metadata": {},
   "source": [
    "# Data Science Tools and Ecosystem"
   ]
  },
  {
   "cell_type": "markdown",
   "id": "0313cfa3",
   "metadata": {},
   "source": [
    "### In this notebook, Data Science Tools and Ecosystem are summarized."
   ]
  },
  {
   "cell_type": "markdown",
   "id": "41e62302",
   "metadata": {},
   "source": [
    "#### Objectives:\n",
    "- Mastery of data manipulation tools and techniques\n",
    "- Ability to perform in-depth analysis and predictive modeling\n",
    "- Skill to communicate results and findings effectively"
   ]
  },
  {
   "cell_type": "markdown",
   "id": "be48d166",
   "metadata": {},
   "source": [
    "#### Some of the popular languages that Data Scientists use are:\n",
    "- Python\n",
    "- R\n",
    "- Java"
   ]
  },
  {
   "cell_type": "markdown",
   "id": "ad0664dc",
   "metadata": {},
   "source": [
    "#### Some of the commonly used libraries used by Data Scientists include:\n",
    "- Numpy (python)\n",
    "- Pandas (python)\n",
    "- ggplot2 (R)"
   ]
  },
  {
   "cell_type": "markdown",
   "id": "92267446",
   "metadata": {},
   "source": [
    "| Data Science Tools |\n",
    "|----------------------|\n",
    "| Jupyter Notebooks    |\n",
    "| RStudio              |\n",
    "| Visual Studio Code   |"
   ]
  },
  {
   "cell_type": "markdown",
   "id": "ef732e05",
   "metadata": {},
   "source": [
    "### Below are a few examples of evaluating arithmetic expressions in Python."
   ]
  },
  {
   "cell_type": "markdown",
   "id": "424123a1",
   "metadata": {},
   "source": [
    " This a simple arithmetic expression to mutiply then add integers"
   ]
  },
  {
   "cell_type": "code",
   "execution_count": 7,
   "id": "217abb8f",
   "metadata": {},
   "outputs": [
    {
     "data": {
      "text/plain": [
       "17"
      ]
     },
     "execution_count": 7,
     "metadata": {},
     "output_type": "execute_result"
    }
   ],
   "source": [
    "(3*4)+5"
   ]
  },
  {
   "cell_type": "markdown",
   "id": "f6c08162",
   "metadata": {},
   "source": [
    "This will convert 200 minutes to hours by diving by 60"
   ]
  },
  {
   "cell_type": "code",
   "execution_count": 8,
   "id": "c88ce018",
   "metadata": {},
   "outputs": [
    {
     "data": {
      "text/plain": [
       "33.333333333333336"
      ]
     },
     "execution_count": 8,
     "metadata": {},
     "output_type": "execute_result"
    }
   ],
   "source": [
    "200/6"
   ]
  },
  {
   "cell_type": "markdown",
   "id": "51f4cfb5",
   "metadata": {},
   "source": [
    "## AUTOR: JOHN FREDY BECERRA"
   ]
  },
  {
   "cell_type": "code",
   "execution_count": null,
   "id": "e6015b32",
   "metadata": {},
   "outputs": [],
   "source": []
  }
 ],
 "metadata": {
  "kernelspec": {
   "display_name": "Python 3",
   "language": "python",
   "name": "python3"
  },
  "language_info": {
   "codemirror_mode": {
    "name": "ipython",
    "version": 3
   },
   "file_extension": ".py",
   "mimetype": "text/x-python",
   "name": "python",
   "nbconvert_exporter": "python",
   "pygments_lexer": "ipython3",
   "version": "3.8.8"
  }
 },
 "nbformat": 4,
 "nbformat_minor": 5
}
